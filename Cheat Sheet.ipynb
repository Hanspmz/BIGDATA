{
 "cells": [
  {
   "cell_type": "markdown",
   "metadata": {},
   "source": [
    "# Mongo DB Cheat sheet"
   ]
  },
  {
   "cell_type": "markdown",
   "metadata": {},
   "source": [
    "### Mostrar todas las bases de datos \n",
    "- show dbs\n",
    "\n",
    "### Mostrar Base de datos en la que estamos\n",
    "- db \n",
    "\n",
    "### Moverse a otra Base de datos o crearla\n",
    "- use database\n",
    "\n",
    "### Crear una colección\n",
    "- db.createCollection('name')\n",
    " \n",
    "### Mostrar colecciones \n",
    "- show collections\n",
    " \n",
    "### Insertar fila/documetos\n",
    "- db.dbname.insert({name:'name', ...})\n",
    "\n",
    "### Buscar fila/documento\n",
    "- db.dbname.find()\n",
    "\n",
    "### Obtener todo el formato de las filas/documentos\n",
    "- db.dbname.find().pretty()\n",
    "\n",
    "### Ordenar las filas/documetos\n",
    "- db.dbname.find().sort({name:1/-1})\n",
    "\n",
    "### Buscar dentro fila/documento(especifico)\n",
    "- db.dbname.find({\"name.name\":10}) \n",
    "\n",
    "### Remover fila/documento\n",
    "- db.dbname.remove({\"name\":\"thename\"})\n",
    "\n",
    "### Actualizar fila/documento\n",
    "- db.dbname.update({\"name\":\"thename\"},{\"$set\" {\"old\": new}})\n",
    "\n",
    "### Actualizar multiples fila/documento\n",
    "- db.dbname.update({\"name\":\"thename\"},{\"$set\" {\"old\": new}}, {\"multi\": true})\n",
    "\n",
    "### Contar las filas/documentos \n",
    "\n",
    "- db.dbname.find().count()"
   ]
  },
  {
   "cell_type": "code",
   "execution_count": null,
   "metadata": {},
   "outputs": [],
   "source": []
  }
 ],
 "metadata": {
  "kernelspec": {
   "display_name": "Python 3",
   "language": "python",
   "name": "python3"
  },
  "language_info": {
   "codemirror_mode": {
    "name": "ipython",
    "version": 3
   },
   "file_extension": ".py",
   "mimetype": "text/x-python",
   "name": "python",
   "nbconvert_exporter": "python",
   "pygments_lexer": "ipython3",
   "version": "3.7.6"
  }
 },
 "nbformat": 4,
 "nbformat_minor": 4
}
