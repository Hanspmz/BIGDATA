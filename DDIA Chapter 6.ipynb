{
 "cells": [
  {
   "cell_type": "markdown",
   "metadata": {},
   "source": [
    "# Designing Data-Intensive Applications Chapter 6"
   ]
  },
  {
   "cell_type": "markdown",
   "metadata": {},
   "source": [
    "### What is skewness in data?\n",
    "- Data skew is when data is not evenly distributed across partitions. This could happen if a column with low cardinality is defined as partition key. For example, if choosing a column that only contains Male or Female, the data will only be distributed to two partitions."
   ]
  },
  {
   "cell_type": "markdown",
   "metadata": {},
   "source": [
    "### What is Data Flow?\n",
    "- Dataflow is the movement of data through a system comprised of software, hardware or a combination of both.\n",
    "\n",
    "- Dataflow is often defined using a model or diagram in which the entire process of data movement is mapped as it passes from one component to the next within a program or a system, taking into consideration how it changes form during the process."
   ]
  },
  {
   "cell_type": "markdown",
   "metadata": {},
   "source": [
    "### Mention some partitioning methods and how they work?\n",
    "- LIST partitioning: is similar to range partitioning in many ways. As in partitioning by RANGE, each partition must be explicitly defined. The chief difference between the two types of partitioning is that, in list partitioning, each partition is defined and selected based on the membership of a column value in one of a set of value lists, rather than in one of a set of contiguous ranges of values.\n",
    "- Hash partitioning: Partitioning by HASH is used primarily to ensure an even distribution of data among a predetermined number of partitions\n",
    "- Range partitioning: A table that is partitioned by range is partitioned in such a way that each partition contains rows for which the partitioning expression value lies within a given range. \n",
    "- KEY partitioning: Each row in a partitioned table is unambiguously assigned to a single partition. "
   ]
  },
  {
   "cell_type": "markdown",
   "metadata": {},
   "source": [
    "### How skewed workloads works?\n",
    "- In some partitions we can find more data or queries than others. The presence of skew makes partitioning much less effective. In an extreme case, all the load could end up on one partition, so 9 out of 10 nodes are idle and your bottleneck is the single busy node."
   ]
  },
  {
   "cell_type": "markdown",
   "metadata": {},
   "source": [
    "### What is data relocation?\n",
    "- Relocation only exists on dynamic partitions. With this memory allocation scheme, the memory manager relocates programs to collect empty blocks and compact them, to make a memory block large enough to accept some or all tasks waiting to enter. The relocation happens in some instances as weather, number of queued tasks and percentage of how memory is occupied"
   ]
  },
  {
   "cell_type": "markdown",
   "metadata": {},
   "source": [
    "### What is a parallel query?\n",
    "- Parallel query is a method used to increase the execution speed of SQL queries by creating multiple query processes that divide the workload of a SQL statement and executing it in parallel or at the same time."
   ]
  },
  {
   "cell_type": "code",
   "execution_count": null,
   "metadata": {},
   "outputs": [],
   "source": []
  },
  {
   "cell_type": "code",
   "execution_count": null,
   "metadata": {},
   "outputs": [],
   "source": []
  }
 ],
 "metadata": {
  "kernelspec": {
   "display_name": "Python 3",
   "language": "python",
   "name": "python3"
  },
  "language_info": {
   "codemirror_mode": {
    "name": "ipython",
    "version": 3
   },
   "file_extension": ".py",
   "mimetype": "text/x-python",
   "name": "python",
   "nbconvert_exporter": "python",
   "pygments_lexer": "ipython3",
   "version": "3.7.6"
  }
 },
 "nbformat": 4,
 "nbformat_minor": 4
}
