{
 "cells": [
  {
   "cell_type": "markdown",
   "metadata": {},
   "source": [
    "# Big data principles Review Chapters 3-4"
   ]
  },
  {
   "cell_type": "markdown",
   "metadata": {},
   "source": [
    "## Chapter 3 Questions"
   ]
  },
  {
   "cell_type": "markdown",
   "metadata": {},
   "source": [
    "### What is data corruption and what causes it?\n",
    "- Data corruption refers to errors in data that may occur during reading, writing, processing, storage, or transmission of said data, which may introduce unintended/unwanted changes to the original data.\n",
    "- Some malicious software such as viruses, worms, or Trojans may intentionally cause data corruption.\n",
    "- Consequences of data corruption include inaccurate data, unreadable fields, records, or files/tables, and inoperative programs. These typically express themselves in error messages or unexpected behavior.\n",
    "\n",
    "### What are the advantages of use a serialization framework?\n",
    "- Serialization frameworks are an easy approach to making an enforceable schema.\n",
    "- If you’ve ever used an object-oriented, statically typed language, using a serialization\n",
    "framework will be immediately familiar. \n",
    "- Serialization frameworks generate code for\n",
    "whatever languages you wish to use for reading, writing, and validating objects that\n",
    "match your schema. \n",
    "\n",
    "### What is Apache Thrift?\n",
    "- Is a tool that can be used to define statically\n",
    "typed, enforceable schemas. \n",
    "- It provides an interface definition language to describe the\n",
    "schema in terms of generic data types, and this description can later be used to automatically generate the actual implementation in multiple programming languages. \n",
    "\n",
    "### What are the main components of Apache Thrift?\n",
    "- Nodes: a single value that may have any of several representations.\n",
    "- Edges: each edge can be represented as a struct containing two nodes:\n",
    "- Properties: contains a node and a value for the property"
   ]
  },
  {
   "cell_type": "markdown",
   "metadata": {},
   "source": [
    "## Chapter 4 Questions"
   ]
  },
  {
   "cell_type": "markdown",
   "metadata": {},
   "source": [
    "### What are the master dataset requirements?\n",
    "- Read: Support for parallel processing.\n",
    "- Write: Efficient appends of new data and scalable storage.\n",
    "- Both: Tunable storage and processing costs and enforceable immutability.\n",
    "\n",
    "### what are the disadvantages of using key/value store for the master dataset?\n",
    "- With unmodifiable files you cannot store the entire master data set in one file.\n",
    "\n",
    "### What is the best solution for the batch layer?\n",
    "- Distributed filesystems, except they spread their storage across a cluster of\n",
    "computers. They scale by adding more machines to the cluster. Distributed filesystems\n",
    "are designed so that you have fault tolerance when a machine goes down, meaning that\n",
    "if you lose one machine, all your files and data will still be accessible.\n",
    "\n",
    "### What is Vertical partitioning\n",
    "- Process that contributes greatly to making the batch layer more efficient because it allows you to partition your data so that a function only accesses data relevant to its calculation"
   ]
  },
  {
   "cell_type": "code",
   "execution_count": null,
   "metadata": {},
   "outputs": [],
   "source": []
  }
 ],
 "metadata": {
  "kernelspec": {
   "display_name": "Python 3",
   "language": "python",
   "name": "python3"
  },
  "language_info": {
   "codemirror_mode": {
    "name": "ipython",
    "version": 3
   },
   "file_extension": ".py",
   "mimetype": "text/x-python",
   "name": "python",
   "nbconvert_exporter": "python",
   "pygments_lexer": "ipython3",
   "version": "3.7.6"
  }
 },
 "nbformat": 4,
 "nbformat_minor": 4
}
