{
 "cells": [
  {
   "cell_type": "markdown",
   "metadata": {},
   "source": [
    "# Big data principles Review Chapters 1-2"
   ]
  },
  {
   "cell_type": "markdown",
   "metadata": {},
   "source": [
    "## Chapter 1 Questions"
   ]
  },
  {
   "cell_type": "markdown",
   "metadata": {},
   "source": [
    "#### When are Nosql systems a better choice?\n",
    "- Traditional sql systems are not able to handle big amounts of data and the system complexity increases, thats the reason why Nosql systems have emerged.\n",
    "\n",
    "#### Why a system need to include Robustness and fault tolerance properties?\n",
    "- These properties help us to simplify the process of dealing with human failures since the immutability of the system makes it resistant to this type of error.\n",
    "\n",
    "#### What is the lambda structure and why is important?\n",
    "- The Lambda Structure is an architecture designed to handle massive quantities of data by taking advantage of batch methods. This approach to architecture attempts to balance latency, throughput, and fault-tolerance by using batch processing to provide comprehensive and accurate views of batch data.\n",
    " \n",
    "#### What is the compaction and why do we need to avoid it?\n",
    "- Compaction is the process by which a DB cleans up after itself, comes in two flavors: major and minor, we have to avoid it because the cleaned space become expensive because it has higher demand on the CPU wich dramatically lowers the performance of the system"
   ]
  },
  {
   "cell_type": "markdown",
   "metadata": {},
   "source": [
    "## Chapter 2 Questions"
   ]
  },
  {
   "cell_type": "markdown",
   "metadata": {},
   "source": [
    "#### Why is important to consider and sharing raw data\n",
    "- Raw data bring us a better understanding of the data by keeping it raw. “The Sushi Principle” says that raw data is better than cooked data because it keeps your data analysis fast, secure, and easily comprehendible.\n",
    "\n",
    "#### When should we store unstructured data\n",
    "- Stroing unstructured data we can improve, change or renormalize the data at a later time and we should store this kind of data when the algorithm that extracts data is accurate or the data has no mistakes\n",
    "\n",
    "#### Why is important to use inmutable data?\n",
    "- Inmutable data is data that cannot be updated or deleted basicaly is the same since it was collected, and we can considered to prevent human errors since this data is in the system\n",
    "\n",
    "#### What is a graph schema?\n",
    "- A graph schema is a \"dictionary\" that defines the types of entities, vertices and edges , in the graph and how those types of entities are related to one another."
   ]
  },
  {
   "cell_type": "code",
   "execution_count": null,
   "metadata": {},
   "outputs": [],
   "source": []
  }
 ],
 "metadata": {
  "kernelspec": {
   "display_name": "Python 3",
   "language": "python",
   "name": "python3"
  },
  "language_info": {
   "codemirror_mode": {
    "name": "ipython",
    "version": 3
   },
   "file_extension": ".py",
   "mimetype": "text/x-python",
   "name": "python",
   "nbconvert_exporter": "python",
   "pygments_lexer": "ipython3",
   "version": "3.7.6"
  }
 },
 "nbformat": 4,
 "nbformat_minor": 4
}
