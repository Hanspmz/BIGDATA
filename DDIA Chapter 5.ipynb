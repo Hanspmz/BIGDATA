{
 "cells": [
  {
   "cell_type": "markdown",
   "metadata": {},
   "source": [
    "# Designing Data-Intensive Applications Chapter 5"
   ]
  },
  {
   "cell_type": "markdown",
   "metadata": {},
   "source": [
    "### What is data replication?\n",
    "- Data replication is the process of storing the same data in multiple locations to improve data availability and accessibility, and to improve system resilience and reliability."
   ]
  },
  {
   "cell_type": "markdown",
   "metadata": {},
   "source": [
    "### what are some reasons to replicate data?\n",
    "- To keep data geographically close to your users.\n",
    "- To allow the system to continue working even if some of its parts have failed\n",
    "- To scale out the number of machines that can serve read queries"
   ]
  },
  {
   "cell_type": "markdown",
   "metadata": {},
   "source": [
    "### What is eventual consistency?\n",
    "- Eventual consistency is a consistency model used in distributed computing to achieve high availability that informally guarantees that, if no new updates are made to a given data item, eventually all accesses to that item will return the last updated value."
   ]
  },
  {
   "cell_type": "markdown",
   "metadata": {},
   "source": [
    "### Describe one common use of data replication\n",
    "- One common use of data replication is for disaster recovery, to ensure that an accurate backup exists at all times in case of a catastrophe, hardware failure, or a system breach where data is compromised."
   ]
  },
  {
   "cell_type": "markdown",
   "metadata": {},
   "source": [
    "### Mention the different replication methods\n",
    "- Statement-based replication: the leader logs every write request (statement) that it executes and sends that statement log to its followers.\n",
    "\n",
    "- Write-ahead log shipping: the log is an append-only sequence of bytes containing all writes to the database. We can use the exact same log to build a replica on another node: besides writing the log to disk, the leader also sends it across the network to its followers.\n",
    "\n",
    "- Logical log replication: use different log formats for replication and for the storage engine, which allows the replication log to be decoupled from the storage engine internals.\n",
    "\n",
    "- Trigger-based replication: A trigger lets you register custom application code that is automatically executed when a data change occurs in a database system. "
   ]
  },
  {
   "cell_type": "markdown",
   "metadata": {},
   "source": [
    "### What are monotonic reads?\n",
    "- monotonic reads only means that if one user makes several reads in sequence, they will not see time go backward,i.e., they will not read older data after having previously read newer data.\n"
   ]
  },
  {
   "cell_type": "code",
   "execution_count": null,
   "metadata": {},
   "outputs": [],
   "source": []
  }
 ],
 "metadata": {
  "kernelspec": {
   "display_name": "Python 3",
   "language": "python",
   "name": "python3"
  },
  "language_info": {
   "codemirror_mode": {
    "name": "ipython",
    "version": 3
   },
   "file_extension": ".py",
   "mimetype": "text/x-python",
   "name": "python",
   "nbconvert_exporter": "python",
   "pygments_lexer": "ipython3",
   "version": "3.7.6"
  }
 },
 "nbformat": 4,
 "nbformat_minor": 4
}
